{
 "cells": [
  {
   "cell_type": "markdown",
   "metadata": {},
   "source": [
    "# SKD Pipeline Example"
   ]
  },
  {
   "cell_type": "code",
   "execution_count": 5,
   "metadata": {
    "scrolled": true
   },
   "outputs": [],
   "source": [
    "import sys, os\n",
    "from datetime import datetime\n",
    "# Setup\n",
    "skd_python_dir = os.path.dirname(os.getcwd())\n",
    "if(skd_python_dir not in sys.path):\n",
    "    sys.path.append(skd_python_dir)\n",
    "\n",
    "# Import local skd_libraries\n",
    "import skd_collision_tests.collision_environment.collision_env_utils as collision_env_utils\n",
    "import skd_collision_tests.collision_environment.collision_environment as collision_environment\n",
    "import skd_collision_tests.collision_environment.collision_experiments_loader as collision_loader\n",
    "import skd_collision_tests.collision_environment.collision_data_analyser as collision_data_analyser\n",
    "\n",
    "# Import skd core libraries\n",
    "import skd_core.skd_core_utils.skd_core_utils as skd_core_utils\n",
    "import skd_core.skd_core_generators.skd_kamikaze_traj_gen as skd_kamikaze_traj_gen\n",
    "import skd_core.skd_core_analysers.skd_kamikaze_data_analyser as skd_kamikaze_data_analyser"
   ]
  },
  {
   "cell_type": "markdown",
   "metadata": {},
   "source": [
    "### Collision Environment Pipeline"
   ]
  },
  {
   "cell_type": "code",
   "execution_count": 6,
   "metadata": {},
   "outputs": [],
   "source": [
    "#################################################### Pipeline for collision experiment generation ####################################\n",
    "def gen_sampled_trajectories(sampled_outpath):\n",
    "    # Define bounds for start, mid, end points of the safe trajectory\n",
    "    start_bounds = [122, 118]\n",
    "    mid_bounds = [122, 118]\n",
    "    end_bounds = [122, 118]\n",
    "\n",
    "    # Define number of safe trajs to generate\n",
    "    NUM_SAMPLES = 5\n",
    "\n",
    "    # Print sample safe trajectory sets\n",
    "    sampled_trajs = skd_traj_gens.sample_safe_trajectory_set(start_bounds, mid_bounds, end_bounds, num_trajs = NUM_SAMPLES)\n",
    "\n",
    "    return sampled_trajs\n",
    "\n",
    "# Example function to generate collision_exp config\n",
    "def gen_collision_exp_config(output_dir):\n",
    "    output_path = output_dir + \"/collision_config.yaml\"\n",
    "    \n",
    "    # Set optional configurations\n",
    "    # Safe trajectory files to consider, if empty, then GUI will allow user to select\n",
    "    safe_files = [os.getenv(\"HOME\") + \"/SKDOri/skd_python/skd_trajectories/skd_trajectories_db/traj_set_5.json\"]\n",
    "    # Controller ids in experiment\n",
    "    multiplier_ids=[0.7, 0.9, 1, 1.1]\n",
    "    # Number of collision experiments per safe trajectory\n",
    "    num_runs=1\n",
    "    # Maximum number of steps simulated per experiment\n",
    "    max_num_steps=15\n",
    "    # Maximum number of trajectories considered per safe trajectory file\n",
    "    max_trajs_per_file=1\n",
    "    # Default controller behaviour type (\"basic\" only for now)\n",
    "    car_controller_type=\"basic\"\n",
    "    \n",
    "    collision_env_utils.gen_collision_experiments_config(output_path, safe_files, num_runs, max_num_steps, max_trajs_per_file,\n",
    "                                car_controller_type, multiplier_ids)\n",
    "    return output_path\n",
    "\n",
    "def run_collision_env(output_dir, config_file):\n",
    "    # Create a loader for the config file\n",
    "    experiments_loader = collision_loader.CollisionExperimentLoader(output_dir, config_file)\n",
    "\n",
    "    # Run experiments from the config file\n",
    "    experiments_loader.run_collision_experiments()\n",
    "\n",
    "    # Get collision summary stats\n",
    "    summary_filepath = experiments_loader.get_summary_file_path()\n",
    "\n",
    "    return summary_filepath\n",
    "\n",
    "\n",
    "def get_collision_summary_stats(output_dir, summary_stats_file):\n",
    "\n",
    "    \"\"\" Create a collision experiment analyser \"\"\"\n",
    "    collision_analyser = collision_data_analyser.CollisionExperimentDataAnalyser(summary_stats_file, output_dir)\n",
    "\n",
    "    \"\"\" Parse the data and review it on output_dir \"\"\"\n",
    "    collision_analyser.get_analyzer_summary_statistics()\n",
    "\n",
    "\n",
    "\n",
    "def run_test_collision_experiments(collisions_outputdir):\n",
    "    \"\"\" Excutes all three steps of the collision experiments pipeline.\n",
    "    1. Gen collision experiments config\n",
    "    2. Execute collision experiments\n",
    "    3. Parse collision experiments results >> plots and experiments_statistics.csv\n",
    "    \"\"\"\n",
    "    print(\"Generating collision config file\")\n",
    "    config_filepath = gen_collision_exp_config(collisions_outputdir)\n",
    "    \n",
    "    print(\"Executing collision experiments from config file\")\n",
    "    summary_outpath = run_collision_env(collisions_outputdir, config_filepath)\n",
    "    \n",
    "    print(\"Analysing collision data\")\n",
    "    get_collision_summary_stats(collisions_outputdir, summary_outpath)"
   ]
  },
  {
   "cell_type": "markdown",
   "metadata": {},
   "source": [
    "### Kamikaze Generation Pipeline functions"
   ]
  },
  {
   "cell_type": "code",
   "execution_count": 7,
   "metadata": {},
   "outputs": [],
   "source": [
    "#################################################### Pipeline for kamikaze experiments generation ####################################\n",
    "# Example function to generate kamikaze traj generation experiments\n",
    "def generate_kamikaze_experiments_config(kamikaze_traj_gen_outdir, generic_config_path):\n",
    "    # Set outpath for config file (Send it to ../config for now)\n",
    "    # Set options for config file\n",
    "    config_outpath = kamikaze_traj_gen_outdir + \"/kamikaze_traj_gen.yaml\"\n",
    "    controller_ids = [1]\n",
    "    # Safe trajectory filepaths to consider. If empty (GUI will ask user for files)\n",
    "    safe_traj_files = [os.getenv(\"HOME\") + \"/SKDOri/skd_python/skd_trajectories/skd_trajectories_db/traj_set_5.json\"]\n",
    "    attempts_per_file = 100\n",
    "    max_traj_per_file = 10\n",
    "    skd_core_utils.generate_kamikaze_configs(config_outpath, controller_ids, generic_config_path, safe_traj_files, attempts = attempts_per_file, trajs_per_file = max_traj_per_file)\n",
    "    \n",
    "    # Return config outpath\n",
    "    return config_outpath\n",
    "\n",
    "\n",
    "\n",
    "# Execute the kamikaze trajecoty experiments based on configuration file\n",
    "def execute_kamikaze_experiments(outputdir, kamikaze_config_filepath, planner_exec_path, generic_config_path):\n",
    "    # Create a generator to serve all the options in the configuration file\n",
    "    kamikaze_generator = skd_kamikaze_traj_gen.KamikazeTrajGenerator(kamikaze_config_filepath, outputdir)\n",
    "    kamikaze_generator.execute_kamikaze_traj_gen_configs(planner_exec_path)\n",
    "#     kamikaze_generator.execute_kamikaze_traj_gen_configs(planner_exec_path, generic_config_path)\n",
    "\n",
    "    return kamikaze_generator.get_experiments_summary_dir()\n",
    "\n",
    "\n",
    "\n",
    "## Example function to analyse output from kamikaze traj experiments\n",
    "def analyse_experimental_output(summary_file_path, outputdir):\n",
    "    analyser = skd_kamikaze_data_analyser.SKDKamikazeDataAnalyser(summary_file_path, outputdir)\n",
    "    analyser.parse_summary_data()\n",
    "\n",
    "\n",
    "\n",
    "\n",
    "def run_kamikaze_traj_gen_stats(kamikaze_traj_gen_outdir, planner_path, generic_config_path):\n",
    "    # Generate configuration file for experiments\n",
    "    print(\"2.1 Generating kamikaze trajectories experiments config file\")\n",
    "    config_filepath = generate_kamikaze_experiments_config(kamikaze_traj_gen_outdir, generic_config_path)\n",
    "\n",
    "    # Execute experiments\n",
    "    print(\"2.2 Executing kamikaze trajectories experiments\")\n",
    "    summary_file = execute_kamikaze_experiments(kamikaze_traj_gen_outdir, config_filepath, planner_path, generic_config_path)\n",
    "\n",
    "    # Analyse data\n",
    "    print(\"2.3 Processing kamikaze trajectory generation results\")\n",
    "    analyse_experimental_output(summary_file, kamikaze_traj_gen_outdir)\n"
   ]
  },
  {
   "cell_type": "markdown",
   "metadata": {},
   "source": [
    "### Run pipeline"
   ]
  },
  {
   "cell_type": "code",
   "execution_count": 8,
   "metadata": {
    "scrolled": true
   },
   "outputs": [
    {
     "name": "stdout",
     "output_type": "stream",
     "text": [
      "/home/ivan/SKD5/ABTLite3/bin/abtLite\n",
      "1. Run collision pipeline\n",
      "Generating collision config file\n",
      "{'multiplier_ids': [0.7, 0.9, 1, 1.1], 'car_controller_type': 'basic', 'num_runs': 1, 'max_num_steps': 15, 'safe_trajectory_files': ['/home/ivan/SKDOri/skd_python/skd_trajectories/skd_trajectories_db/traj_set_5.json'], 'max_trajs_per_file': 1}\n",
      "Executing collision experiments from config file\n",
      "{'car_controller_type': 'basic', 'max_num_steps': 15, 'max_trajs_per_file': 1, 'multiplier_ids': [0.7, 0.9, 1, 1.1], 'num_runs': 1, 'safe_trajectory_files': ['/home/ivan/SKDOri/skd_python/skd_trajectories/skd_trajectories_db/traj_set_5.json']}\n",
      "[Errno 17] File exists: '/home/ivan/SKD5/skd_python/skd_notebooks/testing_output/ivan-constraint-PIPE_05-02-17-09-24'\n",
      "Analysing collision data\n",
      "2. Run kamikaze trajectory experiments\n",
      "2.1 Generating kamikaze trajectories experiments config file\n",
      "KAMIKAZE CONFIGS GENERATED TO /home/ivan/SKD5/skd_python/skd_notebooks/testing_output/ivan-constraint-PIPE_05-02-17-09-24/kamikaze_traj_gen.yaml\n",
      "{'safe_traj_files': ['/home/ivan/SKDOri/skd_python/skd_trajectories/skd_trajectories_db/traj_set_5.json'], 'attempts_per_goal': 100, 'controller_multipliers': [1, 1.1], 'max_trajs_per_file': 10, 'kamikaze_cfg_file': '/home/ivan/SKD5/opptv5/cfg/KamiTest.cfg'}\n",
      "2.2 Executing kamikaze trajectories experiments\n",
      "{'attempts_per_goal': 100, 'controller_multipliers': [1, 1.1], 'kamikaze_cfg_file': '/home/ivan/SKD5/opptv5/cfg/KamiTest.cfg', 'max_trajs_per_file': 10, 'safe_traj_files': ['/home/ivan/SKDOri/skd_python/skd_trajectories/skd_trajectories_db/traj_set_5.json']}\n"
     ]
    },
    {
     "ename": "KeyboardInterrupt",
     "evalue": "",
     "output_type": "error",
     "traceback": [
      "\u001b[0;31m---------------------------------------------------------------------------\u001b[0m",
      "\u001b[0;31mKeyboardInterrupt\u001b[0m                         Traceback (most recent call last)",
      "Input \u001b[0;32mIn [8]\u001b[0m, in \u001b[0;36m<cell line: 17>\u001b[0;34m()\u001b[0m\n\u001b[1;32m     15\u001b[0m \u001b[38;5;28mprint\u001b[39m(\u001b[38;5;124m\"\u001b[39m\u001b[38;5;124m2. Run kamikaze trajectory experiments\u001b[39m\u001b[38;5;124m\"\u001b[39m)\n\u001b[1;32m     16\u001b[0m \u001b[38;5;66;03m# Run kamikaze trajectory experiments\u001b[39;00m\n\u001b[0;32m---> 17\u001b[0m \u001b[43mrun_kamikaze_traj_gen_stats\u001b[49m\u001b[43m(\u001b[49m\u001b[43mmodule_outdir\u001b[49m\u001b[43m,\u001b[49m\u001b[43m \u001b[49m\u001b[43mplanner_path\u001b[49m\u001b[43m,\u001b[49m\u001b[43m \u001b[49m\u001b[43mgeneric_cfg_path\u001b[49m\u001b[43m)\u001b[49m\n\u001b[1;32m     19\u001b[0m \u001b[38;5;28mprint\u001b[39m(\u001b[38;5;124m\"\u001b[39m\u001b[38;5;124mdone all\u001b[39m\u001b[38;5;124m\"\u001b[39m)\n",
      "Input \u001b[0;32mIn [7]\u001b[0m, in \u001b[0;36mrun_kamikaze_traj_gen_stats\u001b[0;34m(kamikaze_traj_gen_outdir, planner_path, generic_config_path)\u001b[0m\n\u001b[1;32m     43\u001b[0m \u001b[38;5;66;03m# Execute experiments\u001b[39;00m\n\u001b[1;32m     44\u001b[0m \u001b[38;5;28mprint\u001b[39m(\u001b[38;5;124m\"\u001b[39m\u001b[38;5;124m2.2 Executing kamikaze trajectories experiments\u001b[39m\u001b[38;5;124m\"\u001b[39m)\n\u001b[0;32m---> 45\u001b[0m summary_file \u001b[38;5;241m=\u001b[39m \u001b[43mexecute_kamikaze_experiments\u001b[49m\u001b[43m(\u001b[49m\u001b[43mkamikaze_traj_gen_outdir\u001b[49m\u001b[43m,\u001b[49m\u001b[43m \u001b[49m\u001b[43mconfig_filepath\u001b[49m\u001b[43m,\u001b[49m\u001b[43m \u001b[49m\u001b[43mplanner_path\u001b[49m\u001b[43m,\u001b[49m\u001b[43m \u001b[49m\u001b[43mgeneric_config_path\u001b[49m\u001b[43m)\u001b[49m\n\u001b[1;32m     47\u001b[0m \u001b[38;5;66;03m# Analyse data\u001b[39;00m\n\u001b[1;32m     48\u001b[0m \u001b[38;5;28mprint\u001b[39m(\u001b[38;5;124m\"\u001b[39m\u001b[38;5;124m2.3 Processing kamikaze trajectory generation results\u001b[39m\u001b[38;5;124m\"\u001b[39m)\n",
      "Input \u001b[0;32mIn [7]\u001b[0m, in \u001b[0;36mexecute_kamikaze_experiments\u001b[0;34m(outputdir, kamikaze_config_filepath, planner_exec_path, generic_config_path)\u001b[0m\n\u001b[1;32m     20\u001b[0m \u001b[38;5;28;01mdef\u001b[39;00m \u001b[38;5;21mexecute_kamikaze_experiments\u001b[39m(outputdir, kamikaze_config_filepath, planner_exec_path, generic_config_path):\n\u001b[1;32m     21\u001b[0m     \u001b[38;5;66;03m# Create a generator to serve all the options in the configuration file\u001b[39;00m\n\u001b[1;32m     22\u001b[0m     kamikaze_generator \u001b[38;5;241m=\u001b[39m skd_kamikaze_traj_gen\u001b[38;5;241m.\u001b[39mKamikazeTrajGenerator(kamikaze_config_filepath, outputdir)\n\u001b[0;32m---> 23\u001b[0m     \u001b[43mkamikaze_generator\u001b[49m\u001b[38;5;241;43m.\u001b[39;49m\u001b[43mexecute_kamikaze_traj_gen_configs\u001b[49m\u001b[43m(\u001b[49m\u001b[43mplanner_exec_path\u001b[49m\u001b[43m)\u001b[49m\n\u001b[1;32m     24\u001b[0m \u001b[38;5;66;03m#     kamikaze_generator.execute_kamikaze_traj_gen_configs(planner_exec_path, generic_config_path)\u001b[39;00m\n\u001b[1;32m     26\u001b[0m     \u001b[38;5;28;01mreturn\u001b[39;00m kamikaze_generator\u001b[38;5;241m.\u001b[39mget_experiments_summary_dir()\n",
      "File \u001b[0;32m~/SKD5/skd_python/skd_core/skd_core_generators/skd_kamikaze_traj_gen.py:110\u001b[0m, in \u001b[0;36mKamikazeTrajGenerator.execute_kamikaze_traj_gen_configs\u001b[0;34m(self, planner_executable_path)\u001b[0m\n\u001b[1;32m    107\u001b[0m \u001b[38;5;66;03m# Run experiments for each of the safe trajectory files included\u001b[39;00m\n\u001b[1;32m    108\u001b[0m \u001b[38;5;28;01mfor\u001b[39;00m safe_traj_filename \u001b[38;5;129;01min\u001b[39;00m \u001b[38;5;28mself\u001b[39m\u001b[38;5;241m.\u001b[39msafe_traj_files:\n\u001b[0;32m--> 110\u001b[0m \tsafe_traj_file_summary \u001b[38;5;241m=\u001b[39m \u001b[38;5;28;43mself\u001b[39;49m\u001b[38;5;241;43m.\u001b[39;49m\u001b[43mget_safe_traj_file_summary\u001b[49m\u001b[43m(\u001b[49m\u001b[43mcontroller_multiplier\u001b[49m\u001b[43m,\u001b[49m\u001b[43m \u001b[49m\n\u001b[1;32m    111\u001b[0m \u001b[43m\t\t\t\t\t\t\t\u001b[49m\u001b[43msafe_traj_filename\u001b[49m\u001b[43m,\u001b[49m\u001b[43m \u001b[49m\u001b[43mplanner_executable_path\u001b[49m\u001b[43m)\u001b[49m\n\u001b[1;32m    113\u001b[0m \t\u001b[38;5;66;03m# Save summary of safe_traj_fileame\u001b[39;00m\n\u001b[1;32m    114\u001b[0m \tcontroller_safe_traj_file_summaries\u001b[38;5;241m.\u001b[39mappend(copy\u001b[38;5;241m.\u001b[39mdeepcopy(safe_traj_file_summary))\n",
      "File \u001b[0;32m~/SKD5/skd_python/skd_core/skd_core_generators/skd_kamikaze_traj_gen.py:144\u001b[0m, in \u001b[0;36mKamikazeTrajGenerator.get_safe_traj_file_summary\u001b[0;34m(self, controller_multiplier, safe_traj_filename, planner_executable_path)\u001b[0m\n\u001b[1;32m    140\u001b[0m planner_config \u001b[38;5;241m=\u001b[39m \u001b[38;5;28mself\u001b[39m\u001b[38;5;241m.\u001b[39mgen_kamikaze_traj_oppt_cfg(safe_traj_filename, safe_traj_number, \n\u001b[1;32m    141\u001b[0m \tcontroller_multiplier)\n\u001b[1;32m    143\u001b[0m \u001b[38;5;66;03m# Need to change the stdoout and sterr of this\t\u001b[39;00m\n\u001b[0;32m--> 144\u001b[0m result \u001b[38;5;241m=\u001b[39m \u001b[43msubprocess\u001b[49m\u001b[38;5;241;43m.\u001b[39;49m\u001b[43mrun\u001b[49m\u001b[43m(\u001b[49m\u001b[43m[\u001b[49m\u001b[43mplanner_executable_path\u001b[49m\u001b[43m,\u001b[49m\u001b[43m \u001b[49m\u001b[38;5;124;43m\"\u001b[39;49m\u001b[38;5;124;43m--cfg\u001b[39;49m\u001b[38;5;124;43m\"\u001b[39;49m\u001b[43m,\u001b[49m\u001b[43m \u001b[49m\u001b[43mplanner_config\u001b[49m\u001b[43m]\u001b[49m\u001b[43m,\u001b[49m\u001b[43m \u001b[49m\n\u001b[1;32m    145\u001b[0m \u001b[43m\t\u001b[49m\u001b[43mstdout\u001b[49m\u001b[38;5;241;43m=\u001b[39;49m\u001b[43msubprocess\u001b[49m\u001b[38;5;241;43m.\u001b[39;49m\u001b[43mPIPE\u001b[49m\u001b[43m,\u001b[49m\u001b[43m \u001b[49m\u001b[43mstderr\u001b[49m\u001b[38;5;241;43m=\u001b[39;49m\u001b[43msubprocess\u001b[49m\u001b[38;5;241;43m.\u001b[39;49m\u001b[43mPIPE\u001b[49m\u001b[43m)\u001b[49m\n\u001b[1;32m    147\u001b[0m \u001b[38;5;66;03m# Store the result of each of the dirs\u001b[39;00m\n\u001b[1;32m    148\u001b[0m safe_traj_filekey \u001b[38;5;241m=\u001b[39m \u001b[38;5;28mself\u001b[39m\u001b[38;5;241m.\u001b[39mget_safe_traj_filekey(safe_traj_filename)\n",
      "File \u001b[0;32m~/anaconda/lib/python3.8/subprocess.py:491\u001b[0m, in \u001b[0;36mrun\u001b[0;34m(input, capture_output, timeout, check, *popenargs, **kwargs)\u001b[0m\n\u001b[1;32m    489\u001b[0m \u001b[38;5;28;01mwith\u001b[39;00m Popen(\u001b[38;5;241m*\u001b[39mpopenargs, \u001b[38;5;241m*\u001b[39m\u001b[38;5;241m*\u001b[39mkwargs) \u001b[38;5;28;01mas\u001b[39;00m process:\n\u001b[1;32m    490\u001b[0m     \u001b[38;5;28;01mtry\u001b[39;00m:\n\u001b[0;32m--> 491\u001b[0m         stdout, stderr \u001b[38;5;241m=\u001b[39m \u001b[43mprocess\u001b[49m\u001b[38;5;241;43m.\u001b[39;49m\u001b[43mcommunicate\u001b[49m\u001b[43m(\u001b[49m\u001b[38;5;28;43minput\u001b[39;49m\u001b[43m,\u001b[49m\u001b[43m \u001b[49m\u001b[43mtimeout\u001b[49m\u001b[38;5;241;43m=\u001b[39;49m\u001b[43mtimeout\u001b[49m\u001b[43m)\u001b[49m\n\u001b[1;32m    492\u001b[0m     \u001b[38;5;28;01mexcept\u001b[39;00m TimeoutExpired \u001b[38;5;28;01mas\u001b[39;00m exc:\n\u001b[1;32m    493\u001b[0m         process\u001b[38;5;241m.\u001b[39mkill()\n",
      "File \u001b[0;32m~/anaconda/lib/python3.8/subprocess.py:1024\u001b[0m, in \u001b[0;36mPopen.communicate\u001b[0;34m(self, input, timeout)\u001b[0m\n\u001b[1;32m   1021\u001b[0m     endtime \u001b[38;5;241m=\u001b[39m \u001b[38;5;28;01mNone\u001b[39;00m\n\u001b[1;32m   1023\u001b[0m \u001b[38;5;28;01mtry\u001b[39;00m:\n\u001b[0;32m-> 1024\u001b[0m     stdout, stderr \u001b[38;5;241m=\u001b[39m \u001b[38;5;28;43mself\u001b[39;49m\u001b[38;5;241;43m.\u001b[39;49m\u001b[43m_communicate\u001b[49m\u001b[43m(\u001b[49m\u001b[38;5;28;43minput\u001b[39;49m\u001b[43m,\u001b[49m\u001b[43m \u001b[49m\u001b[43mendtime\u001b[49m\u001b[43m,\u001b[49m\u001b[43m \u001b[49m\u001b[43mtimeout\u001b[49m\u001b[43m)\u001b[49m\n\u001b[1;32m   1025\u001b[0m \u001b[38;5;28;01mexcept\u001b[39;00m \u001b[38;5;167;01mKeyboardInterrupt\u001b[39;00m:\n\u001b[1;32m   1026\u001b[0m     \u001b[38;5;66;03m# https://bugs.python.org/issue25942\u001b[39;00m\n\u001b[1;32m   1027\u001b[0m     \u001b[38;5;66;03m# See the detailed comment in .wait().\u001b[39;00m\n\u001b[1;32m   1028\u001b[0m     \u001b[38;5;28;01mif\u001b[39;00m timeout \u001b[38;5;129;01mis\u001b[39;00m \u001b[38;5;129;01mnot\u001b[39;00m \u001b[38;5;28;01mNone\u001b[39;00m:\n",
      "File \u001b[0;32m~/anaconda/lib/python3.8/subprocess.py:1866\u001b[0m, in \u001b[0;36mPopen._communicate\u001b[0;34m(self, input, endtime, orig_timeout)\u001b[0m\n\u001b[1;32m   1859\u001b[0m     \u001b[38;5;28mself\u001b[39m\u001b[38;5;241m.\u001b[39m_check_timeout(endtime, orig_timeout,\n\u001b[1;32m   1860\u001b[0m                         stdout, stderr,\n\u001b[1;32m   1861\u001b[0m                         skip_check_and_raise\u001b[38;5;241m=\u001b[39m\u001b[38;5;28;01mTrue\u001b[39;00m)\n\u001b[1;32m   1862\u001b[0m     \u001b[38;5;28;01mraise\u001b[39;00m \u001b[38;5;167;01mRuntimeError\u001b[39;00m(  \u001b[38;5;66;03m# Impossible :)\u001b[39;00m\n\u001b[1;32m   1863\u001b[0m         \u001b[38;5;124m'\u001b[39m\u001b[38;5;124m_check_timeout(..., skip_check_and_raise=True) \u001b[39m\u001b[38;5;124m'\u001b[39m\n\u001b[1;32m   1864\u001b[0m         \u001b[38;5;124m'\u001b[39m\u001b[38;5;124mfailed to raise TimeoutExpired.\u001b[39m\u001b[38;5;124m'\u001b[39m)\n\u001b[0;32m-> 1866\u001b[0m ready \u001b[38;5;241m=\u001b[39m \u001b[43mselector\u001b[49m\u001b[38;5;241;43m.\u001b[39;49m\u001b[43mselect\u001b[49m\u001b[43m(\u001b[49m\u001b[43mtimeout\u001b[49m\u001b[43m)\u001b[49m\n\u001b[1;32m   1867\u001b[0m \u001b[38;5;28mself\u001b[39m\u001b[38;5;241m.\u001b[39m_check_timeout(endtime, orig_timeout, stdout, stderr)\n\u001b[1;32m   1869\u001b[0m \u001b[38;5;66;03m# XXX Rewrite these to use non-blocking I/O on the file\u001b[39;00m\n\u001b[1;32m   1870\u001b[0m \u001b[38;5;66;03m# objects; they are no longer using C stdio!\u001b[39;00m\n",
      "File \u001b[0;32m~/anaconda/lib/python3.8/selectors.py:415\u001b[0m, in \u001b[0;36m_PollLikeSelector.select\u001b[0;34m(self, timeout)\u001b[0m\n\u001b[1;32m    413\u001b[0m ready \u001b[38;5;241m=\u001b[39m []\n\u001b[1;32m    414\u001b[0m \u001b[38;5;28;01mtry\u001b[39;00m:\n\u001b[0;32m--> 415\u001b[0m     fd_event_list \u001b[38;5;241m=\u001b[39m \u001b[38;5;28;43mself\u001b[39;49m\u001b[38;5;241;43m.\u001b[39;49m\u001b[43m_selector\u001b[49m\u001b[38;5;241;43m.\u001b[39;49m\u001b[43mpoll\u001b[49m\u001b[43m(\u001b[49m\u001b[43mtimeout\u001b[49m\u001b[43m)\u001b[49m\n\u001b[1;32m    416\u001b[0m \u001b[38;5;28;01mexcept\u001b[39;00m \u001b[38;5;167;01mInterruptedError\u001b[39;00m:\n\u001b[1;32m    417\u001b[0m     \u001b[38;5;28;01mreturn\u001b[39;00m ready\n",
      "\u001b[0;31mKeyboardInterrupt\u001b[0m: "
     ]
    }
   ],
   "source": [
    "# Setup\n",
    "# Run kamikaze trajetory generation experiments\n",
    "planner_path = os.getenv(\"HOME\") + \"/SKD5/ABTLite3/bin/abtLite\"\n",
    "print(planner_path)\n",
    "\n",
    "generic_cfg_path = os.getenv(\"HOME\") + \"/SKD5/opptv5/cfg/KamiTest.cfg\"\n",
    "# Get timestampt\n",
    "timestamp = datetime.now().strftime(\"%m-%d-%H-%M-%S\")\n",
    "module_outdir = os.getcwd() + \"/testing_output/ivan-constraint-PIPE_%s\" % (timestamp)\n",
    "\n",
    "# Run collision pipeline\n",
    "print(\"1. Run collision pipeline\")\n",
    "run_test_collision_experiments(module_outdir)\n",
    "\n",
    "print(\"2. Run kamikaze trajectory experiments\")\n",
    "# Run kamikaze trajectory experiments\n",
    "run_kamikaze_traj_gen_stats(module_outdir, planner_path, generic_cfg_path)\n",
    "\n",
    "print(\"done all\")"
   ]
  },
  {
   "cell_type": "code",
   "execution_count": null,
   "metadata": {},
   "outputs": [],
   "source": []
  },
  {
   "cell_type": "code",
   "execution_count": null,
   "metadata": {},
   "outputs": [],
   "source": []
  }
 ],
 "metadata": {
  "kernelspec": {
   "display_name": "Python 3 (ipykernel)",
   "language": "python",
   "name": "python3"
  },
  "language_info": {
   "codemirror_mode": {
    "name": "ipython",
    "version": 3
   },
   "file_extension": ".py",
   "mimetype": "text/x-python",
   "name": "python",
   "nbconvert_exporter": "python",
   "pygments_lexer": "ipython3",
   "version": "3.8.5"
  }
 },
 "nbformat": 4,
 "nbformat_minor": 4
}
