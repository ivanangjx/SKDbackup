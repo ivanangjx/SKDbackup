{
 "cells": [
  {
   "cell_type": "markdown",
   "metadata": {},
   "source": [
    "# SKD Pipeline Example"
   ]
  },
  {
   "cell_type": "code",
   "execution_count": 9,
   "metadata": {
    "scrolled": true
   },
   "outputs": [],
   "source": [
    "import sys, os\n",
    "from datetime import datetime\n",
    "# Setup\n",
    "skd_python_dir = os.path.dirname(os.getcwd())\n",
    "if(skd_python_dir not in sys.path):\n",
    "    sys.path.append(skd_python_dir)\n",
    "\n",
    "# Import local skd_libraries\n",
    "import skd_collision_tests.collision_environment.collision_env_utils as collision_env_utils\n",
    "import skd_collision_tests.collision_environment.collision_environment as collision_environment\n",
    "import skd_collision_tests.collision_environment.collision_experiments_loader as collision_loader\n",
    "import skd_collision_tests.collision_environment.collision_data_analyser as collision_data_analyser\n",
    "\n",
    "# Import skd core libraries\n",
    "import skd_core.skd_core_utils.skd_core_utils as skd_core_utils\n",
    "import skd_core.skd_core_generators.skd_kamikaze_traj_gen as skd_kamikaze_traj_gen\n",
    "import skd_core.skd_core_analysers.skd_kamikaze_data_analyser as skd_kamikaze_data_analyser"
   ]
  },
  {
   "cell_type": "markdown",
   "metadata": {},
   "source": [
    "### Collision Environment Pipeline"
   ]
  },
  {
   "cell_type": "code",
   "execution_count": 10,
   "metadata": {},
   "outputs": [],
   "source": [
    "#################################################### Pipeline for collision experiment generation ####################################\n",
    "def gen_sampled_trajectories(sampled_outpath):\n",
    "    # Define bounds for start, mid, end points of the safe trajectory\n",
    "    start_bounds = [122, 118]\n",
    "    mid_bounds = [122, 118]\n",
    "    end_bounds = [122, 118]\n",
    "\n",
    "    # Define number of safe trajs to generate\n",
    "    NUM_SAMPLES = 5\n",
    "\n",
    "    # Print sample safe trajectory sets\n",
    "    sampled_trajs = skd_traj_gens.sample_safe_trajectory_set(start_bounds, mid_bounds, end_bounds, num_trajs = NUM_SAMPLES)\n",
    "\n",
    "    return sampled_trajs\n",
    "\n",
    "# Example function to generate collision_exp config\n",
    "def gen_collision_exp_config(output_dir):\n",
    "    output_path = output_dir + \"/collision_config.yaml\"\n",
    "    \n",
    "    # Set optional configurations\n",
    "    # Safe trajectory files to consider, if empty, then GUI will allow user to select\n",
    "    safe_files = [os.getenv(\"HOME\") + \"/SKDOri/skd_python/skd_trajectories/skd_trajectories_db/traj_set_5.json\"]\n",
    "    # Controller ids in experiment\n",
    "    multiplier_ids=[0.7, 0.9, 1, 1.1]\n",
    "    # Number of collision experiments per safe trajectory\n",
    "    num_runs=1\n",
    "    # Maximum number of steps simulated per experiment\n",
    "    max_num_steps=15\n",
    "    # Maximum number of trajectories considered per safe trajectory file\n",
    "    max_trajs_per_file=1\n",
    "    # Default controller behaviour type (\"basic\" only for now)\n",
    "    car_controller_type=\"basic\"\n",
    "    \n",
    "    collision_env_utils.gen_collision_experiments_config(output_path, safe_files, num_runs, max_num_steps, max_trajs_per_file,\n",
    "                                car_controller_type, multiplier_ids)\n",
    "    return output_path\n",
    "\n",
    "def run_collision_env(output_dir, config_file):\n",
    "    # Create a loader for the config file\n",
    "    experiments_loader = collision_loader.CollisionExperimentLoader(output_dir, config_file)\n",
    "\n",
    "    # Run experiments from the config file\n",
    "    experiments_loader.run_collision_experiments()\n",
    "\n",
    "    # Get collision summary stats\n",
    "    summary_filepath = experiments_loader.get_summary_file_path()\n",
    "\n",
    "    return summary_filepath\n",
    "\n",
    "\n",
    "def get_collision_summary_stats(output_dir, summary_stats_file):\n",
    "\n",
    "    \"\"\" Create a collision experiment analyser \"\"\"\n",
    "    collision_analyser = collision_data_analyser.CollisionExperimentDataAnalyser(summary_stats_file, output_dir)\n",
    "\n",
    "    \"\"\" Parse the data and review it on output_dir \"\"\"\n",
    "    collision_analyser.get_analyzer_summary_statistics()\n",
    "\n",
    "\n",
    "\n",
    "def run_test_collision_experiments(collisions_outputdir):\n",
    "    \"\"\" Excutes all three steps of the collision experiments pipeline.\n",
    "    1. Gen collision experiments config\n",
    "    2. Execute collision experiments\n",
    "    3. Parse collision experiments results >> plots and experiments_statistics.csv\n",
    "    \"\"\"\n",
    "    print(\"Generating collision config file\")\n",
    "    config_filepath = gen_collision_exp_config(collisions_outputdir)\n",
    "    \n",
    "    print(\"Executing collision experiments from config file\")\n",
    "    summary_outpath = run_collision_env(collisions_outputdir, config_filepath)\n",
    "    \n",
    "    print(\"Analysing collision data\")\n",
    "    get_collision_summary_stats(collisions_outputdir, summary_outpath)"
   ]
  },
  {
   "cell_type": "markdown",
   "metadata": {},
   "source": [
    "### Kamikaze Generation Pipeline functions"
   ]
  },
  {
   "cell_type": "code",
   "execution_count": 11,
   "metadata": {},
   "outputs": [],
   "source": [
    "#################################################### Pipeline for kamikaze experiments generation ####################################\n",
    "# Example function to generate kamikaze traj generation experiments\n",
    "def generate_kamikaze_experiments_config(kamikaze_traj_gen_outdir, generic_config_path):\n",
    "    # Set outpath for config file (Send it to ../config for now)\n",
    "    # Set options for config file\n",
    "    config_outpath = kamikaze_traj_gen_outdir + \"/kamikaze_traj_gen.yaml\"\n",
    "    controller_ids = [1]\n",
    "    # Safe trajectory filepaths to consider. If empty (GUI will ask user for files)\n",
    "    safe_traj_files = [os.getenv(\"HOME\") + \"/SKDOri/skd_python/skd_trajectories/skd_trajectories_db/traj_set_5.json\"]\n",
    "    attempts_per_file = 100\n",
    "    max_traj_per_file = 10\n",
    "    skd_core_utils.generate_kamikaze_configs(config_outpath, controller_ids, generic_config_path, safe_traj_files, attempts = attempts_per_file, trajs_per_file = max_traj_per_file)\n",
    "    \n",
    "    # Return config outpath\n",
    "    return config_outpath\n",
    "\n",
    "\n",
    "\n",
    "# Execute the kamikaze trajecoty experiments based on configuration file\n",
    "def execute_kamikaze_experiments(outputdir, kamikaze_config_filepath, planner_exec_path, generic_config_path):\n",
    "    # Create a generator to serve all the options in the configuration file\n",
    "    kamikaze_generator = skd_kamikaze_traj_gen.KamikazeTrajGenerator(kamikaze_config_filepath, outputdir)\n",
    "    kamikaze_generator.execute_kamikaze_traj_gen_configs(planner_exec_path)\n",
    "#     kamikaze_generator.execute_kamikaze_traj_gen_configs(planner_exec_path, generic_config_path)\n",
    "\n",
    "    return kamikaze_generator.get_experiments_summary_dir()\n",
    "\n",
    "\n",
    "\n",
    "## Example function to analyse output from kamikaze traj experiments\n",
    "def analyse_experimental_output(summary_file_path, outputdir):\n",
    "    analyser = skd_kamikaze_data_analyser.SKDKamikazeDataAnalyser(summary_file_path, outputdir)\n",
    "    analyser.parse_summary_data()\n",
    "\n",
    "\n",
    "\n",
    "\n",
    "def run_kamikaze_traj_gen_stats(kamikaze_traj_gen_outdir, planner_path, generic_config_path):\n",
    "    # Generate configuration file for experiments\n",
    "    print(\"2.1 Generating kamikaze trajectories experiments config file\")\n",
    "    config_filepath = generate_kamikaze_experiments_config(kamikaze_traj_gen_outdir, generic_config_path)\n",
    "\n",
    "    # Execute experiments\n",
    "    print(\"2.2 Executing kamikaze trajectories experiments\")\n",
    "    summary_file = execute_kamikaze_experiments(kamikaze_traj_gen_outdir, config_filepath, planner_path, generic_config_path)\n",
    "\n",
    "    # Analyse data\n",
    "    print(\"2.3 Processing kamikaze trajectory generation results\")\n",
    "    analyse_experimental_output(summary_file, kamikaze_traj_gen_outdir)\n"
   ]
  },
  {
   "cell_type": "markdown",
   "metadata": {},
   "source": [
    "### Run pipeline"
   ]
  },
  {
   "cell_type": "code",
   "execution_count": 12,
   "metadata": {
    "scrolled": true
   },
   "outputs": [
    {
     "name": "stdout",
     "output_type": "stream",
     "text": [
      "/home/ivan/SKD5/ABTLite3/bin/abtLite\n",
      "1. Run collision pipeline\n",
      "Generating collision config file\n",
      "{'multiplier_ids': [0.7, 0.9, 1, 1.1], 'car_controller_type': 'basic', 'num_runs': 1, 'max_num_steps': 15, 'safe_trajectory_files': ['/home/ivan/SKDOri/skd_python/skd_trajectories/skd_trajectories_db/traj_set_5.json'], 'max_trajs_per_file': 1}\n",
      "Executing collision experiments from config file\n",
      "{'car_controller_type': 'basic', 'max_num_steps': 15, 'max_trajs_per_file': 1, 'multiplier_ids': [0.7, 0.9, 1, 1.1], 'num_runs': 1, 'safe_trajectory_files': ['/home/ivan/SKDOri/skd_python/skd_trajectories/skd_trajectories_db/traj_set_5.json']}\n",
      "[Errno 17] File exists: '/home/ivan/SKD5/skd_python/skd_notebooks/testing_output/ivan-constraint-PIPE_05-02-17-09-58'\n",
      "Analysing collision data\n",
      "2. Run kamikaze trajectory experiments\n",
      "2.1 Generating kamikaze trajectories experiments config file\n",
      "KAMIKAZE CONFIGS GENERATED TO /home/ivan/SKD5/skd_python/skd_notebooks/testing_output/ivan-constraint-PIPE_05-02-17-09-58/kamikaze_traj_gen.yaml\n",
      "{'safe_traj_files': ['/home/ivan/SKDOri/skd_python/skd_trajectories/skd_trajectories_db/traj_set_5.json'], 'attempts_per_goal': 100, 'controller_multipliers': [1], 'max_trajs_per_file': 10, 'kamikaze_cfg_file': '/home/ivan/SKD5/opptv5/cfg/KamiTest.cfg'}\n",
      "2.2 Executing kamikaze trajectories experiments\n",
      "{'attempts_per_goal': 100, 'controller_multipliers': [1], 'kamikaze_cfg_file': '/home/ivan/SKD5/opptv5/cfg/KamiTest.cfg', 'max_trajs_per_file': 10, 'safe_traj_files': ['/home/ivan/SKDOri/skd_python/skd_trajectories/skd_trajectories_db/traj_set_5.json']}\n",
      "2.3 Processing kamikaze trajectory generation results\n",
      "done all\n"
     ]
    }
   ],
   "source": [
    "# Setup\n",
    "# Run kamikaze trajetory generation experiments\n",
    "planner_path = os.getenv(\"HOME\") + \"/SKD5/ABTLite3/bin/abtLite\"\n",
    "print(planner_path)\n",
    "\n",
    "generic_cfg_path = os.getenv(\"HOME\") + \"/SKD5/opptv5/cfg/KamiTest.cfg\"\n",
    "# Get timestampt\n",
    "timestamp = datetime.now().strftime(\"%m-%d-%H-%M-%S\")\n",
    "module_outdir = os.getcwd() + \"/testing_output/ivan-constraint-PIPE_%s\" % (timestamp)\n",
    "\n",
    "# Run collision pipeline\n",
    "print(\"1. Run collision pipeline\")\n",
    "run_test_collision_experiments(module_outdir)\n",
    "\n",
    "print(\"2. Run kamikaze trajectory experiments\")\n",
    "# Run kamikaze trajectory experiments\n",
    "run_kamikaze_traj_gen_stats(module_outdir, planner_path, generic_cfg_path)\n",
    "\n",
    "print(\"done all\")"
   ]
  },
  {
   "cell_type": "code",
   "execution_count": null,
   "metadata": {},
   "outputs": [],
   "source": []
  },
  {
   "cell_type": "code",
   "execution_count": null,
   "metadata": {},
   "outputs": [],
   "source": []
  }
 ],
 "metadata": {
  "kernelspec": {
   "display_name": "Python 3 (ipykernel)",
   "language": "python",
   "name": "python3"
  },
  "language_info": {
   "codemirror_mode": {
    "name": "ipython",
    "version": 3
   },
   "file_extension": ".py",
   "mimetype": "text/x-python",
   "name": "python",
   "nbconvert_exporter": "python",
   "pygments_lexer": "ipython3",
   "version": "3.8.5"
  }
 },
 "nbformat": 4,
 "nbformat_minor": 4
}
